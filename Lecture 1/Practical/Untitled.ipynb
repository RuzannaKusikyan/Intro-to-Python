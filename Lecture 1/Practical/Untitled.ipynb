{
 "cells": [
  {
   "cell_type": "code",
   "execution_count": 8,
   "metadata": {},
   "outputs": [
    {
     "name": "stdout",
     "output_type": "stream",
     "text": [
      "Course: Intro to Python\n",
      "Student: Ruzanna Kusikyan\n",
      "Nickname: Ruz\n",
      "Grade: 100\n",
      "PythonExpert: True\n"
     ]
    }
   ],
   "source": [
    "course = \"Intro to Python\"\n",
    "student = \"Ruzanna Kusikyan\"\n",
    "nickname = \"Ruz\"\n",
    "grade = 100\n",
    "pythonExpert = True\n",
    "print(\"Course:\",course)\n",
    "print(\"Student:\",student)\n",
    "print(\"Nickname:\",nickname)\n",
    "print(\"Grade:\",grade)\n",
    "print(\"PythonExpert:\",pythonExpert)\n",
    "\n",
    "\n"
   ]
  },
  {
   "cell_type": "code",
   "execution_count": 9,
   "metadata": {},
   "outputs": [
    {
     "name": "stdout",
     "output_type": "stream",
     "text": [
      "Course: Intro to Python \n",
      "Student: Intro to Python \n",
      "Nickname: Ruz \n",
      "Grade: 100 \n",
      "PythonExpert: True\n"
     ]
    }
   ],
   "source": [
    "print(\"Course:\",course, \"\\n\"\n",
    "     \"Student:\",course, \"\\n\"\n",
    "     \"Nickname:\",nickname, \"\\n\"\n",
    "     \"Grade:\",grade, \"\\n\"\n",
    "     \"PythonExpert:\", pythonExpert)"
   ]
  },
  {
   "cell_type": "code",
   "execution_count": 14,
   "metadata": {},
   "outputs": [
    {
     "name": "stdout",
     "output_type": "stream",
     "text": [
      "The hypotenuse of the triangle ABC: 5\n"
     ]
    }
   ],
   "source": [
    "AB = 3\n",
    "AC = 4\n",
    "import math\n",
    "BC = int(math.sqrt(AB**2+AC**2))\n",
    "print(\"The hypotenuse of the triangle ABC:\",BC)"
   ]
  },
  {
   "cell_type": "code",
   "execution_count": null,
   "metadata": {},
   "outputs": [],
   "source": []
  }
 ],
 "metadata": {
  "kernelspec": {
   "display_name": "Python 3",
   "language": "python",
   "name": "python3"
  },
  "language_info": {
   "codemirror_mode": {
    "name": "ipython",
    "version": 3
   },
   "file_extension": ".py",
   "mimetype": "text/x-python",
   "name": "python",
   "nbconvert_exporter": "python",
   "pygments_lexer": "ipython3",
   "version": "3.7.3"
  }
 },
 "nbformat": 4,
 "nbformat_minor": 2
}
